{
 "cells": [
  {
   "cell_type": "code",
   "execution_count": null,
   "id": "888f0620",
   "metadata": {},
   "outputs": [],
   "source": [
    "'''\n",
    "ls /dev/ttyUSB*\n",
    "\n",
    "cd ~/Desktop/dofbot_cpp/\n",
    "mkdir build\n",
    "cd build\n",
    "cmake ..\n",
    "\n",
    "make\n",
    "./ctrl_all\n",
    "\n",
    "./beep --port /dev/cu.usbserial-2130 --init-delay 0.2\n",
    "./ctrl_all_servo --port /dev/cu.usbserial-2130 --init-delay 0.2\n",
    "\n",
    "Python: \n",
    "python3 dofbot_python/ctrl_servo.py --servo-id 6 --angle 180 --move-time 600  \n",
    "python3 dofbot_python/ctrl_servo.py --angles 90 80 70 60 50 40 --move-time 1000\n",
    "C++: \n",
    "./ctrl_servo --port /dev/cu.usbserial-2130 --servo-id 2 --angle 120 --move-time 600  \n",
    "./ctrl_servo --port /dev/cu.usbserial-2130 --angles 90 80 70 60 50 40\n",
    "'''"
   ]
  },
  {
   "cell_type": "code",
   "execution_count": 1,
   "id": "e35f8d23",
   "metadata": {},
   "outputs": [
    {
     "name": "stdout",
     "output_type": "stream",
     "text": [
      " END OF LINE! \n",
      " END OF LINE! \n",
      " END OF LINE! \n",
      " END OF LINE! \n",
      " END OF LINE! \n",
      " Program closed! \n"
     ]
    }
   ],
   "source": [
    "# Let the RGB lights on the robot arm expansion board light up red, green, and blue. keep looping.\n",
    "\n",
    "#!/usr/bin/env python3\n",
    "\n",
    "#coding=utf-8\n",
    "\n",
    "import time\n",
    "\n",
    "from Arm_Lib import Arm_Device\n",
    "\n",
    "# Get the object of the robotic arm\n",
    "\n",
    "Arm = Arm_Device(\"/dev/tty.usbserial-2130\")\n",
    "\n",
    "time.sleep(.1)\n",
    "\n",
    "def main():\n",
    "\n",
    "     while True:\n",
    "\n",
    "            Arm.Arm_RGB_set(50, 0, 0) #RGB red\n",
    "\n",
    "            time.sleep(.5)\n",
    "\n",
    "            Arm.Arm_RGB_set(0, 50, 0) #RGB green\n",
    "\n",
    "            time.sleep(.5)\n",
    "\n",
    "            Arm.Arm_RGB_set(0, 0, 50) #RGB blue\n",
    "\n",
    "            time.sleep(.5)\n",
    "\n",
    "            print(\" END OF LINE! \")\n",
    "\n",
    "try :\n",
    "\n",
    "     main()\n",
    "\n",
    "except KeyboardInterrupt:\n",
    "\n",
    "     # Release the Arm object\n",
    "\n",
    "     del Arm\n",
    "\n",
    "     print(\" Program closed! \")\n",
    "\n",
    "     pass"
   ]
  },
  {
   "cell_type": "code",
   "execution_count": null,
   "id": "eb51b7ef",
   "metadata": {},
   "outputs": [],
   "source": []
  }
 ],
 "metadata": {
  "kernelspec": {
   "display_name": "robot",
   "language": "python",
   "name": "python3"
  },
  "language_info": {
   "codemirror_mode": {
    "name": "ipython",
    "version": 3
   },
   "file_extension": ".py",
   "mimetype": "text/x-python",
   "name": "python",
   "nbconvert_exporter": "python",
   "pygments_lexer": "ipython3",
   "version": "3.10.18"
  }
 },
 "nbformat": 4,
 "nbformat_minor": 5
}
